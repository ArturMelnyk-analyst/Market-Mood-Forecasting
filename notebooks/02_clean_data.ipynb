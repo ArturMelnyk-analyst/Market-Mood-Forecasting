{
 "cells": [
  {
   "cell_type": "markdown",
   "id": "45eb8857",
   "metadata": {},
   "source": [
    "02_clean_data"
   ]
  },
  {
   "cell_type": "code",
   "execution_count": 1,
   "id": "3b45e6ab",
   "metadata": {},
   "outputs": [],
   "source": [
    "# Importing libraries\n",
    "import pandas as pd\n",
    "import matplotlib.pyplot as plt\n",
    "from sklearn.preprocessing import MinMaxScaler"
   ]
  },
  {
   "cell_type": "code",
   "execution_count": 2,
   "id": "1551e5e4",
   "metadata": {},
   "outputs": [],
   "source": [
    "# ✅ Import mood index feature from utils\n",
    "import sys\n",
    "from pathlib import Path\n",
    "sys.path.append(str(Path().resolve().parent))\n",
    "from utils.mood_features import get_mood_index"
   ]
  },
  {
   "cell_type": "code",
   "execution_count": 3,
   "id": "76ee0686",
   "metadata": {},
   "outputs": [],
   "source": [
    "# ✅ Load datasets prepared in PR#1\n",
    "sp500 = pd.read_csv(\"../data/raw/sp500_data.csv\", parse_dates=[\"Date\"])\n",
    "vix = pd.read_csv(\"../data//raw/vix_data.csv\", parse_dates=[\"Date\"])\n",
    "unrate = pd.read_csv(\"../data/raw/unrate_data.csv\", parse_dates=[\"Date\"])\n",
    "google_sentiment = pd.read_csv(\"../data/raw/google_trends.csv\", parse_dates=[\"Date\"])"
   ]
  },
  {
   "cell_type": "code",
   "execution_count": 4,
   "id": "e80202ff",
   "metadata": {},
   "outputs": [],
   "source": [
    "# 🔗 Merge all datasets\n",
    "df = sp500.merge(vix, on=\"Date\", how=\"outer\")"
   ]
  },
  {
   "cell_type": "code",
   "execution_count": 5,
   "id": "f797825f",
   "metadata": {},
   "outputs": [],
   "source": [
    "# 🧼 Flatten column levels if merged DataFrame has multi-index columns\n",
    "if isinstance(df.columns, pd.MultiIndex):\n",
    "    df.columns = [' '.join(col).strip() for col in df.columns.values]\n",
    "\n",
    "df = df.merge(unrate, on=\"Date\", how=\"outer\")\n",
    "df = df.merge(google_sentiment, on=\"Date\", how=\"left\")"
   ]
  },
  {
   "cell_type": "code",
   "execution_count": 6,
   "id": "7ff5e06c",
   "metadata": {},
   "outputs": [],
   "source": [
    "# 🧼 Clean and compute features\n",
    "# Rename columns to standard names\n",
    "df = df.rename(columns={\n",
    "    \"Close ^GSPC\": \"Close\",\n",
    "    \"Volume ^GSPC\": \"Volume\",\n",
    "    \"VIX_Close ^VIX\": \"VIX_Close\"\n",
    "})\n",
    "\n",
    "df = df.sort_values(\"Date\").reset_index(drop=True)\n",
    "df = df.dropna(subset=[\"Close\", \"VIX_Close\", \"Unemployment\"])"
   ]
  },
  {
   "cell_type": "code",
   "execution_count": 7,
   "id": "8c05f4ab",
   "metadata": {},
   "outputs": [],
   "source": [
    "# Ensure columns are numeric\n",
    "df[\"Close\"] = pd.to_numeric(df[\"Close\"], errors=\"coerce\")\n",
    "df[\"VIX_Close\"] = pd.to_numeric(df[\"VIX_Close\"], errors=\"coerce\")"
   ]
  },
  {
   "cell_type": "code",
   "execution_count": 8,
   "id": "9788c028",
   "metadata": {},
   "outputs": [],
   "source": [
    "# Calculate returns and changes\n",
    "df[\"SP500_Returns\"] = df[\"Close\"].pct_change()\n",
    "df[\"VIX_Change\"] = df[\"VIX_Close\"].pct_change()"
   ]
  },
  {
   "cell_type": "code",
   "execution_count": 9,
   "id": "c3f8a52c",
   "metadata": {},
   "outputs": [],
   "source": [
    "# ✅ Apply mood index from utils\n",
    "df = get_mood_index(df)"
   ]
  },
  {
   "cell_type": "code",
   "execution_count": 10,
   "id": "d6966c1d",
   "metadata": {},
   "outputs": [],
   "source": [
    "# Saving cleaned data\n",
    "df.to_csv(\"../data/cleaned/cleaned_data.csv\", index=False)"
   ]
  }
 ],
 "metadata": {
  "kernelspec": {
   "display_name": "Python 3 (ipykernel)",
   "language": "python",
   "name": "python3"
  },
  "language_info": {
   "codemirror_mode": {
    "name": "ipython",
    "version": 3
   },
   "file_extension": ".py",
   "mimetype": "text/x-python",
   "name": "python",
   "nbconvert_exporter": "python",
   "pygments_lexer": "ipython3",
   "version": "3.10.4"
  }
 },
 "nbformat": 4,
 "nbformat_minor": 5
}
