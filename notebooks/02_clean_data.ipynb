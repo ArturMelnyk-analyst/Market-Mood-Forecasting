{
 "cells": [
  {
   "cell_type": "code",
   "execution_count": 1,
   "id": "a1b4ee0e",
   "metadata": {},
   "outputs": [],
   "source": [
    "# Importing libraries\n",
    "import pandas as pd\n",
    "from sklearn.preprocessing import MinMaxScaler\n",
    "import matplotlib.pyplot as plt"
   ]
  },
  {
   "cell_type": "code",
   "execution_count": 2,
   "id": "76ee0686",
   "metadata": {},
   "outputs": [],
   "source": [
    "# ✅ Load datasets prepared in PR#1\n",
    "sp500 = pd.read_csv(\"../data/raw/sp500_data.csv\", parse_dates=[\"Date\"])\n",
    "vix = pd.read_csv(\"../data//raw/vix_data.csv\", parse_dates=[\"Date\"])\n",
    "unrate = pd.read_csv(\"../data/raw/unrate_data.csv\", parse_dates=[\"Date\"])\n",
    "google_sentiment = pd.read_csv(\"../data/raw/google_trends.csv\", parse_dates=[\"Date\"])"
   ]
  },
  {
   "cell_type": "code",
   "execution_count": 3,
   "id": "e80202ff",
   "metadata": {},
   "outputs": [],
   "source": [
    "# 🔗 Merge all datasets\n",
    "df = sp500.merge(vix, on=\"Date\", how=\"outer\")\n",
    "# 🧼 Flatten column levels if merged DataFrame has multi-index columns\n",
    "if isinstance(df.columns, pd.MultiIndex):\n",
    "    df.columns = [' '.join(col).strip() for col in df.columns.values]\n",
    "\n",
    "df = df.merge(unrate, on=\"Date\", how=\"outer\")\n",
    "df = df.merge(google_sentiment, on=\"Date\", how=\"left\")"
   ]
  },
  {
   "cell_type": "code",
   "execution_count": 4,
   "id": "7ff5e06c",
   "metadata": {},
   "outputs": [],
   "source": [
    "# 🧼 Clean and compute features\n",
    "# Rename columns to standard names\n",
    "df = df.rename(columns={\n",
    "    \"Close ^GSPC\": \"Close\",\n",
    "    \"Volume ^GSPC\": \"Volume\",\n",
    "    \"VIX_Close ^VIX\": \"VIX_Close\"\n",
    "})\n",
    "\n",
    "df = df.sort_values(\"Date\").reset_index(drop=True)\n",
    "df = df.dropna(subset=[\"Close\", \"VIX_Close\", \"Unemployment\"])"
   ]
  },
  {
   "cell_type": "code",
   "execution_count": 5,
   "id": "8c05f4ab",
   "metadata": {},
   "outputs": [],
   "source": [
    "# Ensure columns are numeric\n",
    "df[\"Close\"] = pd.to_numeric(df[\"Close\"], errors=\"coerce\")\n",
    "df[\"VIX_Close\"] = pd.to_numeric(df[\"VIX_Close\"], errors=\"coerce\")"
   ]
  },
  {
   "cell_type": "code",
   "execution_count": 6,
   "id": "9788c028",
   "metadata": {},
   "outputs": [],
   "source": [
    "# Calculate returns and changes\n",
    "df[\"SP500_Returns\"] = df[\"Close\"].pct_change()\n",
    "df[\"VIX_Change\"] = df[\"VIX_Close\"].pct_change()"
   ]
  },
  {
   "cell_type": "code",
   "execution_count": 7,
   "id": "c3f8a52c",
   "metadata": {},
   "outputs": [],
   "source": [
    "# Define mood index function\n",
    "def get_mood_index(df, vix_col='VIX_Close', google_col='Google_Sentiment_Index', unemp_col='Unemployment'):\n",
    "    scaler = MinMaxScaler()\n",
    "    norm_values = scaler.fit_transform(df[[vix_col, google_col, unemp_col]])\n",
    "    norm_df = pd.DataFrame(norm_values, columns=[\"VIX_Norm\", \"Google_Norm\", \"Unemp_Norm\"])\n",
    "    norm_df.index = df.index\n",
    "    df = df.copy()\n",
    "    df[[\"VIX_Norm\", \"Google_Norm\", \"Unemp_Norm\"]] = norm_df\n",
    "    df[\"Mood_Index\"] = df[[\"VIX_Norm\", \"Google_Norm\", \"Unemp_Norm\"]].mean(axis=1)\n",
    "    df[\"Mood_Zone\"] = df[\"Mood_Index\"].apply(lambda val: \"Calm\" if val < 0.4 else \"Cautious\" if val < 0.7 else \"Panic\")\n",
    "    return df"
   ]
  },
  {
   "cell_type": "code",
   "execution_count": 8,
   "id": "5fabb7d6",
   "metadata": {},
   "outputs": [],
   "source": [
    "# Apply mood index\n",
    "df = get_mood_index(df)"
   ]
  },
  {
   "cell_type": "code",
   "execution_count": 9,
   "id": "d6966c1d",
   "metadata": {},
   "outputs": [],
   "source": [
    "# Saving cleaned data\n",
    "df.to_csv(\"../data/cleaned/cleaned_data.csv\", index=False)"
   ]
  }
 ],
 "metadata": {
  "kernelspec": {
   "display_name": "Python 3 (ipykernel)",
   "language": "python",
   "name": "python3"
  },
  "language_info": {
   "codemirror_mode": {
    "name": "ipython",
    "version": 3
   },
   "file_extension": ".py",
   "mimetype": "text/x-python",
   "name": "python",
   "nbconvert_exporter": "python",
   "pygments_lexer": "ipython3",
   "version": "3.10.4"
  }
 },
 "nbformat": 4,
 "nbformat_minor": 5
}
