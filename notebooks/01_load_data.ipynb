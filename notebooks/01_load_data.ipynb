{
 "cells": [
  {
   "cell_type": "markdown",
   "id": "d3383f90",
   "metadata": {},
   "source": [
    "# 01_load_data.ipynb"
   ]
  },
  {
   "cell_type": "code",
   "execution_count": 1,
   "id": "457e277d",
   "metadata": {},
   "outputs": [],
   "source": [
    "#Importing libraries\n",
    "import os\n",
    "import pandas as pd\n",
    "import yfinance as yf\n",
    "from fredapi import Fred\n",
    "from pytrends.request import TrendReq\n",
    "from dotenv import load_dotenv\n",
    "from datetime import datetime"
   ]
  },
  {
   "cell_type": "code",
   "execution_count": 2,
   "id": "54ad74ed",
   "metadata": {},
   "outputs": [
    {
     "data": {
      "text/plain": [
       "True"
      ]
     },
     "execution_count": 2,
     "metadata": {},
     "output_type": "execute_result"
    }
   ],
   "source": [
    "# Load API keys from .env if needed\n",
    "from dotenv import load_dotenv\n",
    "load_dotenv()"
   ]
  },
  {
   "cell_type": "code",
   "execution_count": 3,
   "id": "4bb37432",
   "metadata": {},
   "outputs": [],
   "source": [
    "# 📅 Set time range\n",
    "start_date = \"2004-01-01\"\n",
    "end_date = datetime.today().strftime('%Y-%m-%d')"
   ]
  },
  {
   "cell_type": "code",
   "execution_count": 4,
   "id": "f97888df",
   "metadata": {},
   "outputs": [
    {
     "name": "stdout",
     "output_type": "stream",
     "text": [
      "YF.download() has changed argument auto_adjust default to True\n"
     ]
    },
    {
     "name": "stderr",
     "output_type": "stream",
     "text": [
      "[*********************100%***********************]  1 of 1 completed\n"
     ]
    }
   ],
   "source": [
    "# 1️⃣ Load S&P 500 from Yahoo Finance\n",
    "sp500 = yf.download(\"^GSPC\", start=start_date, end=end_date, interval='1wk')\n",
    "sp500.reset_index(inplace=True)\n",
    "sp500 = sp500[[\"Date\", \"Close\", \"Volume\"]]\n",
    "sp500[\"Date\"] = pd.to_datetime(sp500[\"Date\"]) + pd.offsets.Week(weekday=4)"
   ]
  },
  {
   "cell_type": "code",
   "execution_count": 5,
   "id": "3f651403",
   "metadata": {},
   "outputs": [
    {
     "name": "stderr",
     "output_type": "stream",
     "text": [
      "[*********************100%***********************]  1 of 1 completed\n"
     ]
    }
   ],
   "source": [
    "# 2️⃣ Load VIX Index\n",
    "vix = yf.download(\"^VIX\", start=start_date, end=end_date, interval='1wk')\n",
    "vix.reset_index(inplace=True)\n",
    "vix = vix[[\"Date\", \"Close\"]].rename(columns={\"Close\": \"VIX_Close\"})\n",
    "vix[\"Date\"] = pd.to_datetime(vix[\"Date\"]) + pd.offsets.Week(weekday=4)"
   ]
  },
  {
   "cell_type": "code",
   "execution_count": 6,
   "id": "7795c662",
   "metadata": {},
   "outputs": [
    {
     "name": "stderr",
     "output_type": "stream",
     "text": [
      "C:\\Users\\melny\\AppData\\Local\\Programs\\Python\\Python310\\lib\\site-packages\\pytrends\\request.py:260: FutureWarning: Downcasting object dtype arrays on .fillna, .ffill, .bfill is deprecated and will change in a future version. Call result.infer_objects(copy=False) instead. To opt-in to the future behavior, set `pd.set_option('future.no_silent_downcasting', True)`\n",
      "  df = df.fillna(False)\n"
     ]
    }
   ],
   "source": [
    "# 3️⃣ Load Google Trends data\n",
    "pytrends = TrendReq(hl='en-US', tz=360)\n",
    "kw_list = [\"stock market crash\"]\n",
    "pytrends.build_payload(kw_list, cat=0, timeframe='2004-01-01 2025-07-14', geo='', gprop='')\n",
    "\n",
    "# Download interest over time\n",
    "google_sentiment = pytrends.interest_over_time()\n",
    "google_sentiment = google_sentiment.reset_index()[[\"date\", \"stock market crash\"]]\n",
    "google_sentiment.columns = [\"Date\", \"Google_Sentiment_Index\"]\n",
    "\n",
    "# Resample to weekly (Friday)\n",
    "google_sentiment[\"Date\"] = pd.to_datetime(google_sentiment[\"Date\"])\n",
    "google_sentiment = google_sentiment.set_index(\"Date\").resample(\"W-FRI\").ffill().reset_index()"
   ]
  },
  {
   "cell_type": "code",
   "execution_count": 7,
   "id": "e7fcd9c3",
   "metadata": {},
   "outputs": [],
   "source": [
    "# 4️⃣ Load Unemployment data from FRED\n",
    "fred = Fred(api_key=os.getenv(\"FRED_API_KEY\"))\n",
    "unrate = fred.get_series('UNRATE')\n",
    "unrate = unrate.to_frame(name='Unemployment')\n",
    "unrate.index = pd.to_datetime(unrate.index)\n",
    "unrate = unrate.resample(\"W-FRI\").ffill().reset_index()\n",
    "unrate.columns = [\"Date\", \"Unemployment\"]\n",
    "unrate = unrate[unrate[\"Date\"] >= pd.to_datetime(start_date)]"
   ]
  },
  {
   "cell_type": "code",
   "execution_count": 8,
   "id": "0797f4d3",
   "metadata": {},
   "outputs": [
    {
     "name": "stdout",
     "output_type": "stream",
     "text": [
      "📅 Dataset Date Ranges\n",
      "------------------------------\n",
      "S&P 500:          2004-01-02 → 2025-07-11\n",
      "VIX:              2004-01-02 → 2025-07-11\n",
      "Unemployment:     2004-01-02 → 2025-06-06\n",
      "Google Trends:    2004-01-02 → 2025-07-04\n"
     ]
    }
   ],
   "source": [
    "# 5 Checking which latest data available\n",
    "print(\"📅 Dataset Date Ranges\\n\" + \"-\"*30)\n",
    "\n",
    "print(f\"S&P 500:          {sp500['Date'].min().date()} → {sp500['Date'].max().date()}\")\n",
    "print(f\"VIX:              {vix['Date'].min().date()} → {vix['Date'].max().date()}\")\n",
    "print(f\"Unemployment:     {unrate['Date'].min().date()} → {unrate['Date'].max().date()}\")\n",
    "print(f\"Google Trends:    {google_sentiment['Date'].min().date()} → {google_sentiment['Date'].max().date()}\")"
   ]
  },
  {
   "cell_type": "code",
   "execution_count": 9,
   "id": "40249981",
   "metadata": {},
   "outputs": [],
   "source": [
    "# 6 Align all datasets to the latest valid end date: 2025-06-06\n",
    "latest_date = pd.to_datetime(\"2025-06-06\")\n",
    "sp500 = sp500[sp500[\"Date\"] <= latest_date]\n",
    "vix = vix[vix[\"Date\"] <= latest_date]\n",
    "unrate = unrate[unrate[\"Date\"] <= latest_date]\n",
    "google_sentiment = google_sentiment[google_sentiment[\"Date\"] <= latest_date]"
   ]
  },
  {
   "cell_type": "code",
   "execution_count": 10,
   "id": "62683192",
   "metadata": {},
   "outputs": [],
   "source": [
    "# ✅ Save data to files for further reuse\n",
    "sp500.to_csv(\"../data/raw/sp500_data.csv\", index=False)\n",
    "vix.to_csv(\"../data/raw/vix_data.csv\", index=False)\n",
    "unrate.to_csv(\"../data/raw/unrate_data.csv\", index=False)\n",
    "google_sentiment.to_csv(\"../data/raw/google_trends.csv\", index=False)"
   ]
  }
 ],
 "metadata": {
  "kernelspec": {
   "display_name": "Python 3 (ipykernel)",
   "language": "python",
   "name": "python3"
  },
  "language_info": {
   "codemirror_mode": {
    "name": "ipython",
    "version": 3
   },
   "file_extension": ".py",
   "mimetype": "text/x-python",
   "name": "python",
   "nbconvert_exporter": "python",
   "pygments_lexer": "ipython3",
   "version": "3.10.4"
  }
 },
 "nbformat": 4,
 "nbformat_minor": 5
}
