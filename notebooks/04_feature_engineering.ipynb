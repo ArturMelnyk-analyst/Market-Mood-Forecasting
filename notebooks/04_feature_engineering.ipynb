{
 "cells": [
  {
   "cell_type": "markdown",
   "id": "0c0771d6",
   "metadata": {},
   "source": [
    "04_feature_engineering"
   ]
  },
  {
   "cell_type": "code",
   "execution_count": 1,
   "id": "b38d8167",
   "metadata": {},
   "outputs": [],
   "source": [
    "#Importing libraries\n",
    "import pandas as pd\n",
    "import matplotlib.pyplot as plt\n",
    "from statsmodels.tsa.stattools import grangercausalitytests\n",
    "from sklearn.model_selection import train_test_split\n",
    "import os\n",
    "from pathlib import Path"
   ]
  },
  {
   "cell_type": "code",
   "execution_count": 2,
   "id": "bf1873b9",
   "metadata": {},
   "outputs": [],
   "source": [
    "#Loading data from csv file\n",
    "df = pd.read_csv(\"../data/cleaned/cleaned_data.csv\", parse_dates=[\"Date\"])"
   ]
  },
  {
   "cell_type": "code",
   "execution_count": 3,
   "id": "1b55be18",
   "metadata": {},
   "outputs": [],
   "source": [
    "# Define relative path using pathlib\n",
    "output_path = Path(\"../images/feature_engineering\")\n",
    "output_path.mkdir(parents=True, exist_ok=True)"
   ]
  },
  {
   "cell_type": "code",
   "execution_count": 4,
   "id": "bcf1e183",
   "metadata": {},
   "outputs": [
    {
     "data": {
      "image/png": "[encoded data removed]",
      "text/plain": [
       "<Figure size 576x288 with 1 Axes>"
      ]
     },
     "metadata": {
      "needs_background": "light"
     },
     "output_type": "display_data"
    }
   ],
   "source": [
    "#Lag Correlation (Google Trends → VIX)\n",
    "\n",
    "# Compute lag correlations\n",
    "lags = range(0, 5)\n",
    "correlations = []\n",
    "\n",
    "for lag in lags:\n",
    "    shifted = df[\"Google_Sentiment_Index\"].shift(lag)\n",
    "    corr = shifted.corr(df[\"VIX_Close\"])\n",
    "    correlations.append(corr)\n",
    "\n",
    "# ✅ Plot with consistent styling\n",
    "fig, ax = plt.subplots(figsize=(8, 4))\n",
    "\n",
    "ax.plot(lags, correlations, marker='o', color='steelblue', linewidth=2)\n",
    "\n",
    "ax.set_title(\"Lag Correlation: Google Trends → VIX\", fontsize=14, color='black')\n",
    "ax.set_xlabel(\"Lag (weeks)\", fontsize=12, color='black')\n",
    "ax.set_ylabel(\"Correlation with VIX\", fontsize=12, color='black')\n",
    "\n",
    "ax.tick_params(axis='x', colors='black', labelsize=11)\n",
    "ax.tick_params(axis='y', colors='black', labelsize=11)\n",
    "\n",
    "ax.set_xticks(lags)\n",
    "ax.grid(True, linestyle='--', alpha=0.5)\n",
    "\n",
    "fig.tight_layout()\n",
    "\n",
    "# ✅ Saving\n",
    "# Saving\n",
    "fig.savefig(output_path / \"lag_correlation_google_vix.png\", dpi=300, bbox_inches=\"tight\", facecolor='white') \n",
    "\n",
    "# Displaying\n",
    "plt.show()\n"
   ]
  },
  {
   "cell_type": "code",
   "execution_count": 5,
   "id": "68d4ff6d",
   "metadata": {},
   "outputs": [],
   "source": [
    "# Prepare the data\n",
    "granger_df = df[[\"VIX_Close\", \"Google_Sentiment_Index\"]].dropna()"
   ]
  },
  {
   "cell_type": "code",
   "execution_count": 6,
   "id": "4fc83071",
   "metadata": {},
   "outputs": [
    {
     "name": "stdout",
     "output_type": "stream",
     "text": [
      "Granger Causality Test Results (max lag = 4)\n",
      "\n",
      "Granger Causality\n",
      "number of lags (no zero) 1\n",
      "ssr based F test:         F=6.2134  , p=0.0128  , df_denom=1115, df_num=1\n",
      "ssr based chi2 test:   chi2=6.2301  , p=0.0126  , df=1\n",
      "likelihood ratio test: chi2=6.2128  , p=0.0127  , df=1\n",
      "parameter F test:         F=6.2134  , p=0.0128  , df_denom=1115, df_num=1\n",
      "\n",
      "Granger Causality\n",
      "number of lags (no zero) 2\n",
      "ssr based F test:         F=6.1873  , p=0.0021  , df_denom=1112, df_num=2\n",
      "ssr based chi2 test:   chi2=12.4303 , p=0.0020  , df=2\n",
      "likelihood ratio test: chi2=12.3617 , p=0.0021  , df=2\n",
      "parameter F test:         F=6.1873  , p=0.0021  , df_denom=1112, df_num=2\n",
      "\n",
      "Granger Causality\n",
      "number of lags (no zero) 3\n",
      "ssr based F test:         F=6.4976  , p=0.0002  , df_denom=1109, df_num=3\n",
      "ssr based chi2 test:   chi2=19.6157 , p=0.0002  , df=3\n",
      "likelihood ratio test: chi2=19.4453 , p=0.0002  , df=3\n",
      "parameter F test:         F=6.4976  , p=0.0002  , df_denom=1109, df_num=3\n",
      "\n",
      "Granger Causality\n",
      "number of lags (no zero) 4\n",
      "ssr based F test:         F=4.7392  , p=0.0009  , df_denom=1106, df_num=4\n",
      "ssr based chi2 test:   chi2=19.1110 , p=0.0007  , df=4\n",
      "likelihood ratio test: chi2=18.9490 , p=0.0008  , df=4\n",
      "parameter F test:         F=4.7392  , p=0.0009  , df_denom=1106, df_num=4\n"
     ]
    },
    {
     "name": "stderr",
     "output_type": "stream",
     "text": [
      "C:\\Users\\melny\\AppData\\Local\\Programs\\Python\\Python310\\lib\\site-packages\\statsmodels\\tsa\\stattools.py:1545: FutureWarning: verbose is deprecated since functions should not print results\n",
      "  warnings.warn(\n"
     ]
    },
    {
     "data": {
      "text/plain": [
       "{1: ({'ssr_ftest': (6.2133589131192615, 0.012823235712380475, 1115.0, 1),\n",
       "   'ssr_chi2test': (6.230076470733034, 0.012559831237664649, 1),\n",
       "   'lrtest': (6.212782079481258, 0.012683115020692871, 1),\n",
       "   'params_ftest': (6.213358913119481, 0.012823235712378813, 1115.0, 1.0)},\n",
       "  [<statsmodels.regression.linear_model.RegressionResultsWrapper at 0x1dc2b453640>,\n",
       "   <statsmodels.regression.linear_model.RegressionResultsWrapper at 0x1dc2b453010>,\n",
       "   array([[0., 1., 0.]])]),\n",
       " 2: ({'ssr_ftest': (6.187334217486857, 0.0021267500485118284, 1112.0, 2),\n",
       "   'ssr_chi2test': (12.430309929735287, 0.0019989065661174966, 2),\n",
       "   'lrtest': (12.361654701626321, 0.0020687155928893804, 2),\n",
       "   'params_ftest': (6.187334217487093, 0.0021267500485114524, 1112.0, 2.0)},\n",
       "  [<statsmodels.regression.linear_model.RegressionResultsWrapper at 0x1dc2b452800>,\n",
       "   <statsmodels.regression.linear_model.RegressionResultsWrapper at 0x1dc2b453100>,\n",
       "   array([[0., 0., 1., 0., 0.],\n",
       "          [0., 0., 0., 1., 0.]])]),\n",
       " 3: ({'ssr_ftest': (6.497552810924318, 0.00023340927020796244, 1109.0, 3),\n",
       "   'ssr_chi2test': (19.615695952186307, 0.00020389182404432541, 3),\n",
       "   'lrtest': (19.445299269592397, 0.00022114431206674283, 3),\n",
       "   'params_ftest': (6.4975528109242875, 0.00023340927020796244, 1109.0, 3.0)},\n",
       "  [<statsmodels.regression.linear_model.RegressionResultsWrapper at 0x1dc1bee7e50>,\n",
       "   <statsmodels.regression.linear_model.RegressionResultsWrapper at 0x1dc1bee5840>,\n",
       "   array([[0., 0., 0., 1., 0., 0., 0.],\n",
       "          [0., 0., 0., 0., 1., 0., 0.],\n",
       "          [0., 0., 0., 0., 0., 1., 0.]])]),\n",
       " 4: ({'ssr_ftest': (4.739179261707338, 0.0008552693292134786, 1106.0, 4),\n",
       "   'ssr_chi2test': (19.11097604630626, 0.0007474507757435757, 4),\n",
       "   'lrtest': (18.9490437591503, 0.0008042695701191643, 4),\n",
       "   'params_ftest': (4.739179261707433, 0.0008552693292133783, 1106.0, 4.0)},\n",
       "  [<statsmodels.regression.linear_model.RegressionResultsWrapper at 0x1dc1bf41fc0>,\n",
       "   <statsmodels.regression.linear_model.RegressionResultsWrapper at 0x1dc1bf40f70>,\n",
       "   array([[0., 0., 0., 0., 1., 0., 0., 0., 0.],\n",
       "          [0., 0., 0., 0., 0., 1., 0., 0., 0.],\n",
       "          [0., 0., 0., 0., 0., 0., 1., 0., 0.],\n",
       "          [0., 0., 0., 0., 0., 0., 0., 1., 0.]])])}"
      ]
     },
     "execution_count": 6,
     "metadata": {},
     "output_type": "execute_result"
    }
   ],
   "source": [
    "# Run Granger test: Does Google Sentiment \"cause\" VIX?\n",
    "print(\"Granger Causality Test Results (max lag = 4)\")\n",
    "grangercausalitytests(granger_df, maxlag=4, verbose=True)"
   ]
  },
  {
   "cell_type": "code",
   "execution_count": 7,
   "id": "0fb7058b",
   "metadata": {},
   "outputs": [],
   "source": [
    "# 🎯 Target variable\n",
    "df[\"Target_NextWeekDrop\"] = (df[\"SP500_Returns\"].shift(-1) < 0).astype(int)"
   ]
  },
  {
   "cell_type": "code",
   "execution_count": 8,
   "id": "c320cba3",
   "metadata": {},
   "outputs": [],
   "source": [
    "# ➕ Add Lag Features\n",
    "df[\"Mood_Index_Lag1\"] = df[\"Mood_Index\"].shift(1)\n",
    "df[\"SP500_Returns_Lag1\"] = df[\"SP500_Returns\"].shift(1)\n",
    "df[\"VIX_Change_Lag1\"] = df[\"VIX_Change\"].shift(1)\n",
    "df[\"Google_Trend_Lag1\"] = df[\"Google_Sentiment_Index\"].shift(1)\n",
    "df[\"Unemployment_Lag1\"] = df[\"Unemployment\"].shift(1)"
   ]
  },
  {
   "cell_type": "code",
   "execution_count": 9,
   "id": "bcd1dafe",
   "metadata": {},
   "outputs": [],
   "source": [
    "# 🚿 Drop NA\n",
    "df_model = df.dropna(subset=[\n",
    "    \"Mood_Index\", \"Mood_Index_Lag1\",\n",
    "    \"SP500_Returns_Lag1\", \"VIX_Change_Lag1\",\n",
    "    \"Google_Trend_Lag1\", \"Unemployment_Lag1\",\n",
    "    \"Target_NextWeekDrop\"\n",
    "]).copy()"
   ]
  },
  {
   "cell_type": "code",
   "execution_count": 10,
   "id": "0d1bb312",
   "metadata": {},
   "outputs": [],
   "source": [
    "# ✨ Features\n",
    "features = [\n",
    "    \"Mood_Index\", \"Mood_Index_Lag1\",\n",
    "    \"SP500_Returns_Lag1\", \"VIX_Change_Lag1\",\n",
    "    \"Google_Trend_Lag1\", \"Unemployment_Lag1\"\n",
    "]\n",
    "\n",
    "X = df_model[features]\n",
    "y = df_model[\"Target_NextWeekDrop\"]\n",
    "\n",
    "\n",
    "# Split data\n",
    "X_train, X_test, y_train, y_test = train_test_split(\n",
    "    X, y, test_size=0.3, shuffle=False\n",
    ")"
   ]
  }
 ],
 "metadata": {
  "kernelspec": {
   "display_name": "Python 3 (ipykernel)",
   "language": "python",
   "name": "python3"
  },
  "language_info": {
   "codemirror_mode": {
    "name": "ipython",
    "version": 3
   },
   "file_extension": ".py",
   "mimetype": "text/x-python",
   "name": "python",
   "nbconvert_exporter": "python",
   "pygments_lexer": "ipython3",
   "version": "3.10.4"
  }
 },
 "nbformat": 4,
 "nbformat_minor": 5
}
